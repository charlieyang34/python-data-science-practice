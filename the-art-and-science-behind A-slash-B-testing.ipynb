{
 "cells": [
  {
   "cell_type": "markdown",
   "metadata": {},
   "source": [
    "<font size = '6'>Construct the formula behind an A/B test: student's t test</font>\n",
    "\n",
    "<font size = '4.5'>Basically, I'm going to use a survey data to construct a simple student's t test</font>\n",
    "\n",
    "credit: NYU GS-DA 1001"
   ]
  },
  {
   "cell_type": "code",
   "execution_count": 2,
   "metadata": {},
   "outputs": [],
   "source": [
    "#import packages\n",
    "import pandas as pd\n",
    "import os\n",
    "import numpy as np\n",
    "import matplotlib.pyplot as plt\n",
    "%matplotlib inline"
   ]
  },
  {
   "cell_type": "code",
   "execution_count": 9,
   "metadata": {},
   "outputs": [],
   "source": [
    "data = pd.read_csv('/Users/dell/Desktop/Data/survey_responses_2019.csv', header = 0, sep=',')"
   ]
  },
  {
   "cell_type": "code",
   "execution_count": 16,
   "metadata": {},
   "outputs": [
    {
     "name": "stdout",
     "output_type": "stream",
     "text": [
      "the columns are:\n",
      "id\n",
      "cs_python\n",
      "cs_java\n",
      "cs_c\n",
      "cs_perl\n",
      "cs_javascript\n",
      "cs_r\n",
      "cs_sas\n",
      "profile_1\n",
      "profile_2\n",
      "profile_3\n",
      "profile_4\n",
      "profile_5\n",
      "profile_6\n",
      "profile_7\n",
      "len_answer\n",
      "experience_coded\n",
      "experience\n",
      "the shape of the data frame is: (163, 18)\n"
     ]
    }
   ],
   "source": [
    "print(\"the columns are:\")\n",
    "for element in data.columns.values:\n",
    "    print(element)\n",
    "text = 'the shape of the data frame is: {}'.format(data.shape)\n",
    "print(text)"
   ]
  },
  {
   "cell_type": "code",
   "execution_count": 17,
   "metadata": {},
   "outputs": [],
   "source": [
    "#a little bit of data cleaning to make column names more meaningful\n",
    "profile_mapping = {1:'Viz',\n",
    "                   2:'CS',\n",
    "                   3:'Math',\n",
    "                   4:'Stats',\n",
    "                   5:'ML',\n",
    "                   6:'Bus',\n",
    "                   7:'Com'}"
   ]
  },
  {
   "cell_type": "code",
   "execution_count": 18,
   "metadata": {},
   "outputs": [],
   "source": [
    "#a little bit of data cleaning to make column names more meaningful\n",
    "newcols = []\n",
    "\n",
    "for colname in data.columns:\n",
    "    \n",
    "    if colname[0:7] == 'profile':\n",
    "        \n",
    "        newcols.append('profile_{}'.format(profile_mapping[int(colname[-1])]))\n",
    "        \n",
    "    else:\n",
    "        \n",
    "        newcols.append(colname)\n",
    "    \n",
    "#Now swap the old columns with the values in newcols    \n",
    "data.columns = newcols   "
   ]
  },
  {
   "cell_type": "markdown",
   "metadata": {},
   "source": [
    "<font size = '4.5'> We want to examine the relationship between work experience and length of reply</font>\n",
    "\n",
    "That is, does lengths of reply vary amongst different groups?"
   ]
  },
  {
   "cell_type": "code",
   "execution_count": 19,
   "metadata": {},
   "outputs": [
    {
     "data": {
      "image/png": "[encoded data removed]",
      "text/plain": [
       "<Figure size 432x288 with 1 Axes>"
      ]
     },
     "metadata": {
      "needs_background": "light"
     },
     "output_type": "display_data"
    }
   ],
   "source": [
    "#preliminary exploratory data analysis\n",
    "\n",
    "plt.figure()\n",
    "data['len_answer'].hist()\n",
    "plt.show()"
   ]
  },
  {
   "cell_type": "code",
   "execution_count": null,
   "metadata": {},
   "outputs": [],
   "source": [
    "#From the chart above obviously we have some outliers, so we want to get rid of those\n",
    "\n",
    "#Write a function to get the kth largest value of an array\n",
    "def get_kth_largest(inarray, k):\n",
    "    inarray.sort()\n",
    "    return inarray[-k]\n",
    "\n",
    "kth_largest = get_kth_largest(data.len_answer.values, 5)\n",
    "\n",
    "outlier_filter = (data.len_answer > 50) & (data.len_answer < kth_largest)\n",
    "data_clean = data[outlier_filter]\n"
   ]
  },
  {
   "cell_type": "code",
   "execution_count": null,
   "metadata": {},
   "outputs": [],
   "source": [
    "#we do a summary based on groups\n",
    "data_clean_grouped = data_clean[['len_answer', 'experience']].groupby(['experience']).agg(['mean', 'std', 'count'])\n",
    "data_clean_grouped"
   ]
  },
  {
   "cell_type": "code",
   "execution_count": null,
   "metadata": {},
   "outputs": [],
   "source": [
    "#Finally, create our t-test funciton\n",
    "def pvalue_diffmeans_twotail(mu1, sig1, n1, mu2, sig2, n2):\n",
    "    '''\n",
    "    P-value calculator for the hypothesis test of mu1 != mu2.\n",
    "    Takes in the approprate inputs to compute the t-statistic for the difference between means\n",
    "    Outputs a p-value for a two-sample t-test.\n",
    "    '''\n",
    "    diff = mu1 - mu2\n",
    "    stderror = np.sqrt(sig1**2 / n1 + sig2**2 / n2)\n",
    "    t = diff / stderror\n",
    "    \n",
    "    p_value = 2 * (1- norm.cdf(np.abs(t)))\n",
    "    \n",
    "    return (t, p_value)"
   ]
  },
  {
   "cell_type": "code",
   "execution_count": null,
   "metadata": {},
   "outputs": [],
   "source": [
    "# and examine if there is true difference between groups\n",
    "ttest_data = data_clean_grouped\n",
    "\n",
    "\n",
    "grps = ttest_data.index.values\n",
    "\n",
    "#Now loop through each pair\n",
    "for i, grp1 in enumerate(grps):\n",
    "    for grp2 in grps[i + 1:]:\n",
    "    \n",
    "        '''\n",
    "        hint: since the grp name is the index, pull out the record corresponding to that index value. \n",
    "        Also, the result of groupby uses a multi-index. So be sure to index on 'len_answer' as well.\n",
    "        Then pull out the mean, std, and cnt from that result.   \n",
    "        '''        \n",
    "        row1 = ttest_data.loc[grp1].loc['len_answer']\n",
    "        row2 = ttest_data.loc[grp2].loc['len_answer']\n",
    "    \n",
    "        tstat, p_value = pvalue_diffmeans_twotail(row1['mean'], row1['std'], row1['count'], row2['mean'], row2['std'], row2['count'])\n",
    "    \n",
    "        print('Two tailed T-Test between groups: {} and {}'.format(grp1, grp2))\n",
    "        print('Diff = {} characters'.format(round(row1['mean'] - row2['mean'], 0)))\n",
    "        print('The t-stat is {} and p-value is {}'.format(round(tstat, 3), round(p_value, 3)))\n",
    "        print('')"
   ]
  }
 ],
 "metadata": {
  "kernelspec": {
   "display_name": "Python 3",
   "language": "python",
   "name": "python3"
  },
  "language_info": {
   "codemirror_mode": {
    "name": "ipython",
    "version": 3
   },
   "file_extension": ".py",
   "mimetype": "text/x-python",
   "name": "python",
   "nbconvert_exporter": "python",
   "pygments_lexer": "ipython3",
   "version": "3.7.6"
  }
 },
 "nbformat": 4,
 "nbformat_minor": 4
}
